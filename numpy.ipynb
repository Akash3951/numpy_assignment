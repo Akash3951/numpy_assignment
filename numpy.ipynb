{
 "cells": [
  {
   "cell_type": "markdown",
   "id": "a9e803f9-aeb9-4714-9c0e-48e85922c7ea",
   "metadata": {},
   "source": [
    "# 1. What is a Python library? Why do we use Python libraries?\n",
    "Ans:- Python library is a collection of functions and classes which can be used by python users to make the development easier.\n",
    "    Python has many inbuilt libraries which are used for different development purposes like numpy, pandas, matplotlib, etc."
   ]
  },
  {
   "cell_type": "markdown",
   "id": "1a213496-ae00-496f-93c8-cee3d5e3737d",
   "metadata": {},
   "source": [
    "# 2. What is the difference between Numpy array and List?\n",
    "Ans:- The core building of numpy array is built on top of c++, that's why it has very fast computation power. \n",
    "    Whereas List has slower computation power than numpy."
   ]
  },
  {
   "cell_type": "markdown",
   "id": "2a08f3b3-76df-4f96-b0d5-88db2ede3514",
   "metadata": {},
   "source": [
    "# 3. Find the shape, size and dimension of the following array?\n",
    "[[1, 2, 3, 4]\n",
    "[5, 6, 7, 8],\n",
    "[9, 10, 11, 12]]"
   ]
  },
  {
   "cell_type": "code",
   "execution_count": 1,
   "id": "a42e6e2e-46e4-40ab-bfb4-775611ff34b7",
   "metadata": {},
   "outputs": [
    {
     "data": {
      "text/plain": [
       "array([[ 1,  2,  3,  4],\n",
       "       [ 5,  6,  7,  8],\n",
       "       [ 9, 10, 11, 12]])"
      ]
     },
     "execution_count": 1,
     "metadata": {},
     "output_type": "execute_result"
    }
   ],
   "source": [
    "import numpy as np\n",
    "arr1 = np.array([[1, 2, 3, 4],[5, 6, 7, 8], [9, 10, 11, 12]])\n",
    "arr1"
   ]
  },
  {
   "cell_type": "code",
   "execution_count": 2,
   "id": "2c8c2576-ca07-44a4-858a-a02fd7f2b8ab",
   "metadata": {},
   "outputs": [
    {
     "data": {
      "text/plain": [
       "(3, 4)"
      ]
     },
     "execution_count": 2,
     "metadata": {},
     "output_type": "execute_result"
    }
   ],
   "source": [
    "arr1.shape"
   ]
  },
  {
   "cell_type": "code",
   "execution_count": 3,
   "id": "72e209e1-0944-428e-80f8-4c4dc0be1bd7",
   "metadata": {},
   "outputs": [
    {
     "data": {
      "text/plain": [
       "12"
      ]
     },
     "execution_count": 3,
     "metadata": {},
     "output_type": "execute_result"
    }
   ],
   "source": [
    "arr1.size"
   ]
  },
  {
   "cell_type": "code",
   "execution_count": 4,
   "id": "ef53f64c-df18-4cbf-a51d-0f3906bc037a",
   "metadata": {},
   "outputs": [
    {
     "data": {
      "text/plain": [
       "2"
      ]
     },
     "execution_count": 4,
     "metadata": {},
     "output_type": "execute_result"
    }
   ],
   "source": [
    "arr1.ndim"
   ]
  },
  {
   "cell_type": "markdown",
   "id": "d28c104c-eaab-47eb-835e-acd214c187ee",
   "metadata": {},
   "source": [
    "# 4. Write python code to access the first row of the following array?\n",
    "[[1, 2, 3, 4]\n",
    "[5, 6, 7, 8],\n",
    "[9, 10, 11, 12]]"
   ]
  },
  {
   "cell_type": "code",
   "execution_count": 5,
   "id": "b0228619-53bd-4541-b6cb-35d4394e959a",
   "metadata": {},
   "outputs": [
    {
     "data": {
      "text/plain": [
       "array([[ 1,  2,  3,  4],\n",
       "       [ 5,  6,  7,  8],\n",
       "       [ 9, 10, 11, 12]])"
      ]
     },
     "execution_count": 5,
     "metadata": {},
     "output_type": "execute_result"
    }
   ],
   "source": [
    "arr2 = np.array([[1, 2, 3, 4], [5, 6, 7, 8], [9, 10, 11, 12]])\n",
    "arr2"
   ]
  },
  {
   "cell_type": "code",
   "execution_count": 6,
   "id": "87e43a24-a5af-4799-aa91-aac213dee51a",
   "metadata": {},
   "outputs": [
    {
     "data": {
      "text/plain": [
       "array([1, 2, 3, 4])"
      ]
     },
     "execution_count": 6,
     "metadata": {},
     "output_type": "execute_result"
    }
   ],
   "source": [
    "arr2[0]"
   ]
  },
  {
   "cell_type": "markdown",
   "id": "993b5ba3-d36d-4b7a-bb85-336b0287fd36",
   "metadata": {},
   "source": [
    "# 5. How do you access the element at the third row and fourth column from the given numpy array?\n",
    "[[1, 2, 3, 4]\n",
    "[5, 6, 7, 8],\n",
    "[9, 10, 11, 12]]"
   ]
  },
  {
   "cell_type": "code",
   "execution_count": 7,
   "id": "75341cdb-3961-4487-abea-eeb1c08a79f6",
   "metadata": {},
   "outputs": [
    {
     "data": {
      "text/plain": [
       "array([[ 1,  2,  3,  4],\n",
       "       [ 5,  6,  7,  8],\n",
       "       [ 9, 10, 11, 12]])"
      ]
     },
     "execution_count": 7,
     "metadata": {},
     "output_type": "execute_result"
    }
   ],
   "source": [
    "arr3 = np.array([[1, 2, 3, 4], [5, 6, 7, 8], [9, 10, 11, 12]])\n",
    "arr3"
   ]
  },
  {
   "cell_type": "code",
   "execution_count": 8,
   "id": "cece8c2e-afba-41f3-ab77-3b5860404edc",
   "metadata": {},
   "outputs": [
    {
     "data": {
      "text/plain": [
       "12"
      ]
     },
     "execution_count": 8,
     "metadata": {},
     "output_type": "execute_result"
    }
   ],
   "source": [
    "arr3[-1, -1]"
   ]
  },
  {
   "cell_type": "code",
   "execution_count": 9,
   "id": "a1f7c413-5fa2-4b22-afaa-ca44f3548c13",
   "metadata": {},
   "outputs": [
    {
     "data": {
      "text/plain": [
       "12"
      ]
     },
     "execution_count": 9,
     "metadata": {},
     "output_type": "execute_result"
    }
   ],
   "source": [
    "arr3[2, 3]"
   ]
  },
  {
   "cell_type": "markdown",
   "id": "66b38312-473e-4673-8ad9-e9c38b11813c",
   "metadata": {},
   "source": [
    "# 6. Write code to extract all odd-indexed elements from the given numpy array?\n",
    "[[1, 2, 3, 4]\n",
    "[5, 6, 7, 8],\n",
    "[9, 10, 11, 12]]"
   ]
  },
  {
   "cell_type": "code",
   "execution_count": 10,
   "id": "f1a5f6d2-c91f-4d28-b78d-0e96ae6eb0a2",
   "metadata": {},
   "outputs": [
    {
     "data": {
      "text/plain": [
       "array([[ 1,  2,  3,  4],\n",
       "       [ 5,  6,  7,  8],\n",
       "       [ 9, 10, 11, 12]])"
      ]
     },
     "execution_count": 10,
     "metadata": {},
     "output_type": "execute_result"
    }
   ],
   "source": [
    "arr4 = np.array([[1, 2, 3, 4], [5, 6, 7, 8], [9, 10, 11, 12]])\n",
    "arr4"
   ]
  },
  {
   "cell_type": "code",
   "execution_count": 11,
   "id": "41e46f61-86d7-46c4-837e-5783798699dc",
   "metadata": {},
   "outputs": [
    {
     "data": {
      "text/plain": [
       "array([[ 2,  4],\n",
       "       [ 6,  8],\n",
       "       [10, 12]])"
      ]
     },
     "execution_count": 11,
     "metadata": {},
     "output_type": "execute_result"
    }
   ],
   "source": [
    "arr4[:, 1::2]"
   ]
  },
  {
   "cell_type": "markdown",
   "id": "fd2f41be-996c-4584-9827-7bb9979ebb84",
   "metadata": {},
   "source": [
    "# 7. How can you generate a random 3x3 matrix with values between 0 and 1?"
   ]
  },
  {
   "cell_type": "code",
   "execution_count": 12,
   "id": "380d26b1-9104-457d-b0e2-c0ba90a8146f",
   "metadata": {},
   "outputs": [
    {
     "data": {
      "text/plain": [
       "array([[0.57833259, 0.89290092, 0.71283473],\n",
       "       [0.03477099, 0.86920469, 0.69130947],\n",
       "       [0.47401633, 0.60089448, 0.17846642]])"
      ]
     },
     "execution_count": 12,
     "metadata": {},
     "output_type": "execute_result"
    }
   ],
   "source": [
    "arr5 = np.random.rand(3,3)\n",
    "arr5"
   ]
  },
  {
   "cell_type": "markdown",
   "id": "0e92dde6-9ddc-4d4b-806e-6149a14eaeaf",
   "metadata": {},
   "source": [
    "# 8. Describe the difference between np.random.rand and np.random.randint?\n",
    "Ans:- np.random.rand() function takes size as argument and returns random values between 0 and 1 .\n",
    "    whereas, np.random.randint() function takes the range of values and size of the array and then returns according to the given arguments."
   ]
  },
  {
   "cell_type": "markdown",
   "id": "27b2799c-05c7-4457-8dd4-057b28e1cfa2",
   "metadata": {},
   "source": [
    "# 9. Write code to increase the dimension of the following array?\n",
    "[[1, 2, 3, 4]\n",
    "[5, 6, 7, 8],\n",
    "[9, 10, 11, 12]]"
   ]
  },
  {
   "cell_type": "code",
   "execution_count": 13,
   "id": "2dd73900-ccad-4d2a-bc02-c342963d9139",
   "metadata": {},
   "outputs": [
    {
     "data": {
      "text/plain": [
       "array([[ 1,  2,  3,  4],\n",
       "       [ 5,  6,  7,  8],\n",
       "       [ 9, 10, 11, 12]])"
      ]
     },
     "execution_count": 13,
     "metadata": {},
     "output_type": "execute_result"
    }
   ],
   "source": [
    "arr6 = np.array([[1, 2, 3, 4], [5, 6, 7, 8], [9, 10, 11, 12]])\n",
    "arr6"
   ]
  },
  {
   "cell_type": "code",
   "execution_count": 14,
   "id": "4efd778a-e368-411b-ab62-e77a702d03de",
   "metadata": {},
   "outputs": [
    {
     "data": {
      "text/plain": [
       "array([[[ 1,  2,  3,  4]],\n",
       "\n",
       "       [[ 5,  6,  7,  8]],\n",
       "\n",
       "       [[ 9, 10, 11, 12]]])"
      ]
     },
     "execution_count": 14,
     "metadata": {},
     "output_type": "execute_result"
    }
   ],
   "source": [
    "arr6 = np.expand_dims(arr6, axis=1)\n",
    "arr6"
   ]
  },
  {
   "cell_type": "markdown",
   "id": "b4baf083-b8ca-452d-ab94-10e24d7ca61a",
   "metadata": {},
   "source": [
    "# 10. How to transpose the following array in NumPy?\n",
    "[[1, 2, 3, 4]\n",
    "[5, 6, 7, 8],\n",
    "[9, 10, 11, 12]]"
   ]
  },
  {
   "cell_type": "code",
   "execution_count": 15,
   "id": "b40a3b89-5927-46ff-9a6d-887e80c619d0",
   "metadata": {},
   "outputs": [
    {
     "data": {
      "text/plain": [
       "array([[ 1,  2,  3,  4],\n",
       "       [ 5,  6,  7,  8],\n",
       "       [ 9, 10, 11, 12]])"
      ]
     },
     "execution_count": 15,
     "metadata": {},
     "output_type": "execute_result"
    }
   ],
   "source": [
    "arr7 = np.array([[1, 2, 3, 4], [5, 6, 7, 8], [9, 10, 11, 12]])\n",
    "arr7"
   ]
  },
  {
   "cell_type": "code",
   "execution_count": 16,
   "id": "490c28f7-ed00-4aa4-a2b3-5282e83030c2",
   "metadata": {},
   "outputs": [
    {
     "data": {
      "text/plain": [
       "array([[ 1,  5,  9],\n",
       "       [ 2,  6, 10],\n",
       "       [ 3,  7, 11],\n",
       "       [ 4,  8, 12]])"
      ]
     },
     "execution_count": 16,
     "metadata": {},
     "output_type": "execute_result"
    }
   ],
   "source": [
    "arr7.T"
   ]
  },
  {
   "cell_type": "markdown",
   "id": "38aa4a9e-9a2d-4fa0-a51b-28a96632f4e6",
   "metadata": {},
   "source": [
    "# 11. Consider the following matrix:\n",
    "Matrix A2 [[1, 2, 3, 4] [5, 6, 7, 8],[9, 10, 11, 12]]\n",
    "Matrix B2 [[1, 2, 3, 4] [5, 6, 7, 8],[9, 10, 11, 12]]\n",
    "Perform the following operation using Python1:-"
   ]
  },
  {
   "cell_type": "code",
   "execution_count": 45,
   "id": "a399bb30-7650-4a54-b6bc-03efe764c968",
   "metadata": {},
   "outputs": [
    {
     "data": {
      "text/plain": [
       "matrix([[ 1,  2,  3],\n",
       "        [ 5,  6,  7],\n",
       "        [ 9, 10, 11]])"
      ]
     },
     "execution_count": 45,
     "metadata": {},
     "output_type": "execute_result"
    }
   ],
   "source": [
    "matA2 = np.mat([[1, 2, 3],[5, 6, 7],[9, 10, 11]])\n",
    "matA2"
   ]
  },
  {
   "cell_type": "code",
   "execution_count": 46,
   "id": "07897525-a08f-4fbc-8f63-2108ebf31653",
   "metadata": {},
   "outputs": [
    {
     "data": {
      "text/plain": [
       "matrix([[ 1,  2,  3],\n",
       "        [ 5,  6,  7],\n",
       "        [ 9, 10, 11]])"
      ]
     },
     "execution_count": 46,
     "metadata": {},
     "output_type": "execute_result"
    }
   ],
   "source": [
    "matB2 = np.mat([[1, 2, 3], [5, 6, 7],[9, 10, 11]])\n",
    "matB2"
   ]
  },
  {
   "cell_type": "code",
   "execution_count": 47,
   "id": "50957c08-6185-4cd8-a84f-1ba77cd48d1d",
   "metadata": {},
   "outputs": [
    {
     "data": {
      "text/plain": [
       "matrix([[  1,   4,   9],\n",
       "        [ 25,  36,  49],\n",
       "        [ 81, 100, 121]])"
      ]
     },
     "execution_count": 47,
     "metadata": {},
     "output_type": "execute_result"
    }
   ],
   "source": [
    "# i)Ans:-\n",
    "np.multiply(matA2, matB2)"
   ]
  },
  {
   "cell_type": "code",
   "execution_count": 48,
   "id": "543a8553-b407-49cc-a566-6e936842fe54",
   "metadata": {},
   "outputs": [
    {
     "data": {
      "text/plain": [
       "matrix([[ 38,  44,  50],\n",
       "        [ 98, 116, 134],\n",
       "        [158, 188, 218]])"
      ]
     },
     "execution_count": 48,
     "metadata": {},
     "output_type": "execute_result"
    }
   ],
   "source": [
    "# ii)Ans:- Matrix multiplication is not possible for given matrices. so, I have made the both matrices 3X3.\n",
    "np.dot(matA2, matB2)"
   ]
  },
  {
   "cell_type": "code",
   "execution_count": 49,
   "id": "9b6d6759-2a27-44f3-b700-96361b03ca6e",
   "metadata": {},
   "outputs": [
    {
     "data": {
      "text/plain": [
       "matrix([[ 2,  4,  6],\n",
       "        [10, 12, 14],\n",
       "        [18, 20, 22]])"
      ]
     },
     "execution_count": 49,
     "metadata": {},
     "output_type": "execute_result"
    }
   ],
   "source": [
    "# iii)Ans:- Addition\n",
    "matA2 + matB2"
   ]
  },
  {
   "cell_type": "code",
   "execution_count": 50,
   "id": "3f3656e9-a968-4044-bd13-a6332a946464",
   "metadata": {},
   "outputs": [
    {
     "data": {
      "text/plain": [
       "matrix([[0, 0, 0],\n",
       "        [0, 0, 0],\n",
       "        [0, 0, 0]])"
      ]
     },
     "execution_count": 50,
     "metadata": {},
     "output_type": "execute_result"
    }
   ],
   "source": [
    "# iv)Ans:- Subtract\n",
    "matB2 - matA2"
   ]
  },
  {
   "cell_type": "code",
   "execution_count": 51,
   "id": "8329c7e4-f156-40e5-9f46-0ca4aea9c54c",
   "metadata": {},
   "outputs": [
    {
     "data": {
      "text/plain": [
       "matrix([[1, 1, 1],\n",
       "        [1, 1, 1],\n",
       "        [1, 1, 1]])"
      ]
     },
     "execution_count": 51,
     "metadata": {},
     "output_type": "execute_result"
    }
   ],
   "source": [
    "# v)Ans:- Division\n",
    "matB2 // matA2"
   ]
  },
  {
   "cell_type": "markdown",
   "id": "81857b9c-2ca6-46e5-b3d2-9e7316b83e90",
   "metadata": {},
   "source": [
    "# 12. Which function in Numpy can be used to swap the byte order of an array?\n",
    "Ans:- byteswap() function is used to swap the byte order of an array."
   ]
  },
  {
   "cell_type": "markdown",
   "id": "70fada4d-53dd-4502-b813-e8e55945c5db",
   "metadata": {},
   "source": [
    "# 13. What is the significance of the np.linalg.inv function?\n",
    "Ans:- the significance of the np.linalg.inv function is to compute the multiplicative inverse of a sqrare matrix."
   ]
  },
  {
   "cell_type": "markdown",
   "id": "7f12b764-69df-4348-b590-48fdabf2a20e",
   "metadata": {},
   "source": [
    "# 14. What does the np.reshape function do, and how is it used?\n",
    "Ans:- np.reshape() reshapes the function according the given shape as argument."
   ]
  },
  {
   "cell_type": "code",
   "execution_count": 56,
   "id": "9923101c-3bb1-4704-af8b-d45256d127e9",
   "metadata": {},
   "outputs": [
    {
     "data": {
      "text/plain": [
       "array([[1, 2, 3],\n",
       "       [4, 5, 6],\n",
       "       [7, 8, 9]])"
      ]
     },
     "execution_count": 56,
     "metadata": {},
     "output_type": "execute_result"
    }
   ],
   "source": [
    "arr = np.asarray([[1,2,3], [4,5,6], [7,8,9]])\n",
    "arr"
   ]
  },
  {
   "cell_type": "code",
   "execution_count": 57,
   "id": "9122e60e-2fc0-4b46-bea1-d1feb512e4bd",
   "metadata": {},
   "outputs": [
    {
     "data": {
      "text/plain": [
       "array([[1, 2, 3, 4, 5, 6, 7, 8, 9]])"
      ]
     },
     "execution_count": 57,
     "metadata": {},
     "output_type": "execute_result"
    }
   ],
   "source": [
    "np.reshape(arr, (1,9))"
   ]
  },
  {
   "cell_type": "markdown",
   "id": "b94e9237-1eb9-4f8e-848a-99ba530edd62",
   "metadata": {},
   "source": [
    "# 15. What is broadcasting in Numpy?\n",
    "Ans:- Broadcasting is the mechanism to perform element wise operation to an array."
   ]
  },
  {
   "cell_type": "code",
   "execution_count": 58,
   "id": "8b66071c-4443-4f75-968f-9bc5086b6613",
   "metadata": {},
   "outputs": [
    {
     "data": {
      "text/plain": [
       "array([[11, 12, 13],\n",
       "       [14, 15, 16],\n",
       "       [17, 18, 19]])"
      ]
     },
     "execution_count": 58,
     "metadata": {},
     "output_type": "execute_result"
    }
   ],
   "source": [
    "arr + 10"
   ]
  },
  {
   "cell_type": "code",
   "execution_count": null,
   "id": "1c01a532-d358-4088-aaf6-2cf93ba4a954",
   "metadata": {},
   "outputs": [],
   "source": []
  }
 ],
 "metadata": {
  "kernelspec": {
   "display_name": "Python 3 (ipykernel)",
   "language": "python",
   "name": "python3"
  },
  "language_info": {
   "codemirror_mode": {
    "name": "ipython",
    "version": 3
   },
   "file_extension": ".py",
   "mimetype": "text/x-python",
   "name": "python",
   "nbconvert_exporter": "python",
   "pygments_lexer": "ipython3",
   "version": "3.10.8"
  }
 },
 "nbformat": 4,
 "nbformat_minor": 5
}
